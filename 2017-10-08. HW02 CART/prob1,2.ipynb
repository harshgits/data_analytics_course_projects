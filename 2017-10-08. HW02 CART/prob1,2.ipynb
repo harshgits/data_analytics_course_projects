{
 "cells": [
  {
   "cell_type": "markdown",
   "metadata": {},
   "source": [
    "# Homework 2: CART, Logistic, LASSO\n",
    "\n",
    "Students: Harsh Chaturvedi, Pratik Anand"
   ]
  },
  {
   "cell_type": "markdown",
   "metadata": {},
   "source": [
    "## Problem 1\n",
    "\n",
    "### Part a\n",
    "\n",
    "A CART estimator trained with standardized data $\\widetilde{x}$ will be identical to an estimator trained with un-standardized data $x$. Running both estimators on unseen test data will produce identical results.\n",
    "\n",
    "The reasoning for this is as follows. \n",
    "* The CART estimator works by examining the data points over one dimension at a time, and determining the optimal point along that dimension where it should make a cut.\n",
    "* Standardization changes the mean and variance of the data points along each dimension. It does not however change the ordering of the points or even the ratios of the inter-point distances in any dimension.\n",
    "* The loss function (RMSE, GINI, cross-entropy etc) used to determine the cuts in the feature space therefore continue to attain minimum at the same relative position among the data points, along the dimension under consideration, regardless of standardization.\n",
    "\n",
    "### Part b\n",
    "\n",
    "A LASSO regression estimator trained with standardized data $\\widetilde{x}$ may be different from an estimator trained with un-standardized data $x$. Running both estimators on unseen test data may produce different results.\n",
    "\n",
    "The reasoning for this is as follows. \n",
    "* The LASSO regressor works by adding a regularization term proportional to the sum of the magnitudes of the weights $\\beta_k$'s to the loss function to be minimized. This regularization term is given by $ \\lambda\\sum\\limits_k^p|\\beta_k| $.\n",
    "* The weight $\\beta_k$ for a feature / dimension $k$ will be significantly different depending on whether the data has been standardized along that dimension or not. Thus the relative proportions of the different $|\\beta_k|$'s in the regularization term will differ greatly for standardized and un-standardized data.\n",
    "* As a result, equal changes in different $\\beta_k$'s will produce comparable changes in the regularization term if the data are standardized, while equal changes in different $\\beta_k$'s will have very different magnitudes of impact on the regularization term if the data are not standardized.\n",
    "* Thus, standardization will result in a different (usually better) set of optimal weights $\\beta_k$'s than a model without standardization."
   ]
  },
  {
   "cell_type": "markdown",
   "metadata": {},
   "source": [
    "## Problem 2\n",
    "\n",
    "We wish to solve the following minimization prblem\n",
    "\n",
    "$ \\min\\limits_{\\beta} \\|Y-X\\beta\\|^2 $ subject to $ \\sum\\limits_k^p |\\beta_k| \\le s $\n",
    "\n",
    "\n",
    "The objective is to minimize a function of one variable subject to one constraint. The Lagrangian for this problem will be given by,\n",
    "\n",
    "$L(\\beta, \\lambda) = \\|Y-X\\beta\\|^2 + \\lambda(\\sum\\limits_k^p |\\beta_k| - s) $ where $\\lambda$ is a Lagrange multiplier.\n",
    "\n",
    "And the solution to our problem will be obtained by solving,\n",
    "\n",
    "$ \\nabla_\\beta L(\\beta, \\lambda) = 0 $\n",
    "\n",
    "$\\implies \\nabla_\\beta \\|Y-X\\beta\\|^2 + \\lambda \\nabla_\\beta \\sum\\limits_k^p |\\beta_k| - \\nabla_\\beta (s) = 0 $. Since $s$ is a constant,\n",
    "\n",
    "$\\implies \\nabla_\\beta(\\|Y-X\\beta\\|^2 + \\lambda \\sum\\limits_k^p |\\beta_k|) = 0$\n",
    "\n",
    "The solutions of this equation represent the extrema and inflection points of the bracketed expression. The minimum of the expression, assuming one exisits, is therefore a solution,\n",
    "\n",
    "$ \\min\\limits_\\beta (\\|Y-X\\beta\\|^2 + \\lambda \\sum\\limits_k^p |\\beta_k|)$\n",
    "\n",
    "Note: By this proof, the $ \\beta^c_k $'s are equivalent to the $\\beta_k$'s as defined in the original problem statement."
   ]
  },
  {
   "cell_type": "code",
   "execution_count": null,
   "metadata": {
    "collapsed": true
   },
   "outputs": [],
   "source": []
  }
 ],
 "metadata": {
  "kernelspec": {
   "display_name": "Python 2",
   "language": "python",
   "name": "python2"
  },
  "language_info": {
   "codemirror_mode": {
    "name": "ipython",
    "version": 2
   },
   "file_extension": ".py",
   "mimetype": "text/x-python",
   "name": "python",
   "nbconvert_exporter": "python",
   "pygments_lexer": "ipython2",
   "version": "2.7.13"
  }
 },
 "nbformat": 4,
 "nbformat_minor": 2
}
