{
 "cells": [
  {
   "cell_type": "code",
   "execution_count": 8,
   "metadata": {},
   "outputs": [],
   "source": [
    "import pandas as pd, numpy as np\n",
    "from sklearn.model_selection import cross_val_score, KFold\n",
    "from sklearn.tree import DecisionTreeClassifier as cart_clf\n",
    "from sklearn.model_selection import train_test_split\n",
    "from sklearn.tree._tree import TREE_LEAF\n",
    "from sklearn.metrics import accuracy_score\n",
    "\n",
    "data = pd.read_csv('spam.data.csv', delimiter = ' ', header = None)\n",
    "X, y = data.iloc[:, :-1].values, data.iloc[:, -1:].values.flatten()"
   ]
  },
  {
   "cell_type": "code",
   "execution_count": 9,
   "metadata": {
    "collapsed": true
   },
   "outputs": [],
   "source": [
    "cart_model = cart_clf(random_state=0)"
   ]
  },
  {
   "cell_type": "markdown",
   "metadata": {
    "collapsed": true
   },
   "source": [
    "### Part b and c"
   ]
  },
  {
   "cell_type": "code",
   "execution_count": 10,
   "metadata": {
    "collapsed": true
   },
   "outputs": [],
   "source": [
    "def countLeafNodes(tree, root, count) :\n",
    "    left = t.children_left[root]\n",
    "    right = t.children_right[root]\n",
    "    \n",
    "    if left == right == TREE_LEAF :\n",
    "        return count + 1\n",
    "    elif left == TREE_LEAF != right:\n",
    "        return countLeafNodes(t, right, count)\n",
    "    elif left != TREE_LEAF == right:\n",
    "        return countLeafNodes(t, left, count)\n",
    "    else :\n",
    "        return countLeafNodes(t, left, count) + countLeafNodes(t, right, count)\n",
    "    \n",
    "# prune leaves at a given depth\n",
    "def pruneLeaves(tree, root, rem_depth) :\n",
    "    if root == TREE_LEAF : return\n",
    "    \n",
    "    if rem_depth == 0 :\n",
    "        tree.children_left[root] = tree.children_left[root] = TREE_LEAF\n",
    "        return\n",
    "    \n",
    "    left = tree.children_left[root]\n",
    "    right = tree.children_right[root]\n",
    "    \n",
    "    pruneLeaves(tree, left, rem_depth - 1)\n",
    "    pruneLeaves(tree, right, rem_depth - 1)\n",
    "    \n",
    "def cross_validation(X, y, size ) :\n",
    "    scores = []\n",
    "    for i in range(size) :\n",
    "        X_train, X_test, y_train, y_test = train_test_split(X, y, test_size= 1.0/size) #random selection\n",
    "\n",
    "        cart_model.fit(X_train, y_train)\n",
    "\n",
    "        y_pred = cart_model.predict(X_test)\n",
    "        scores.append(accuracy_score(y_test,y_pred))\n",
    "    np_score = np.hstack(scores)\n",
    "    return 1.0 - np.mean(np_score)"
   ]
  },
  {
   "cell_type": "code",
   "execution_count": 11,
   "metadata": {},
   "outputs": [
    {
     "name": "stdout",
     "output_type": "stream",
     "text": [
      "original score 0.082\n",
      "Max depth of tree 27\n"
     ]
    },
    {
     "data": {
      "text/plain": [
       "'\\nfor i in range(max_depth, 0, -1) :\\n    score = round(cross_validation(X, y, size = 10),3)\\n    (min_index, min_score) = (i, score) if score < min_score else (min_index, min_score)\\n    print(\"Pruning {} --> {}\".format(i, score))\\n    pruneLeaves( tree=cart_model.tree_, root = 0, rem_depth = i )\\n\\n\\nprint(\"Optimal tree by pruning last {} levels and score : {}\".format (max_depth - min_index, min_score))\\n'"
      ]
     },
     "execution_count": 11,
     "metadata": {},
     "output_type": "execute_result"
    }
   ],
   "source": [
    "#original\n",
    "print (\"original score {}\".format(round((cross_validation(X, y, size = 10)),3)))\n",
    "max_depth = cart_model.tree_.max_depth\n",
    "print(\"Max depth of tree {}\".format(max_depth))\n",
    "min_score = 1.0\n",
    "min_index = -1\n",
    "\n",
    "'''\n",
    "for i in range(max_depth, 0, -1) :\n",
    "    score = round(cross_validation(X, y, size = 10),3)\n",
    "    (min_index, min_score) = (i, score) if score < min_score else (min_index, min_score)\n",
    "    print(\"Pruning {} --> {}\".format(i, score))\n",
    "    pruneLeaves( tree=cart_model.tree_, root = 0, rem_depth = i )\n",
    "\n",
    "\n",
    "print(\"Optimal tree by pruning last {} levels and score : {}\".format (max_depth - min_index, min_score))\n",
    "''' \n"
   ]
  },
  {
   "cell_type": "code",
   "execution_count": 12,
   "metadata": {
    "collapsed": true
   },
   "outputs": [],
   "source": [
    "def two_leaf_nodes(tree, nodes):\n",
    "    def is_leaf(node, tree = tree):\n",
    "        if node != TREE_LEAF and tree.children_left[node] == TREE_LEAF: return True\n",
    "        else: return False\n",
    "    return [node for node in nodes if is_leaf(tree.children_left[node]) \n",
    "                and is_leaf(tree.children_right[node])]\n",
    "\n",
    "def make_node_leaf(node, tree, nodes):\n",
    "    nodes.remove(tree.children_left[node])\n",
    "    nodes.remove(tree.children_right[node])\n",
    "    pruned_nodes = [tree.children_left[node], tree.children_right[node]]\n",
    "    tree.children_left[node] = tree.children_right[node] = TREE_LEAF\n",
    "    return nodes, pruned_nodes\n",
    "\n",
    "def prune_worst_node_pair(clf_cart, nodes, X_test, y_test):\n",
    "    tree = clf_cart.tree_\n",
    "    two_leaf_nodes_ = two_leaf_nodes(tree, nodes)\n",
    "    errs = []\n",
    "    print nodes\n",
    "    for node in two_leaf_nodes_:\n",
    "        left, right = tree.children_left[node], tree.children_right[node]\n",
    "        tree.children_left[node] = tree.children_right[node] = TREE_LEAF\n",
    "        errs.append(1 - accuracy_score(clf_cart.predict(X_test), y_test))\n",
    "        tree.children_left[node], tree.children_right[node] = left, right\n",
    "    argmin_errs = np.argmin(errs)\n",
    "    err = errs[argmin_errs]\n",
    "    nodes, pruned_node_pair = make_node_leaf(two_leaf_nodes_[argmin_errs], tree, nodes)\n",
    "    return err, pruned_node_pair, nodes"
   ]
  },
  {
   "cell_type": "code",
   "execution_count": 20,
   "metadata": {},
   "outputs": [
    {
     "ename": "ValueError",
     "evalue": "attempt to get argmin of an empty sequence",
     "output_type": "error",
     "traceback": [
      "\u001b[1;31m---------------------------------------------------------------------------\u001b[0m",
      "\u001b[1;31mValueError\u001b[0m                                Traceback (most recent call last)",
      "\u001b[1;32m<ipython-input-20-229d833461e7>\u001b[0m in \u001b[0;36m<module>\u001b[1;34m()\u001b[0m\n\u001b[0;32m     15\u001b[0m     \u001b[0merrs_mean\u001b[0m \u001b[1;33m=\u001b[0m \u001b[0mnp\u001b[0m\u001b[1;33m.\u001b[0m\u001b[0mmean\u001b[0m\u001b[1;33m(\u001b[0m\u001b[0merrs\u001b[0m\u001b[1;33m,\u001b[0m \u001b[0maxis\u001b[0m \u001b[1;33m=\u001b[0m \u001b[1;36m0\u001b[0m\u001b[1;33m)\u001b[0m\u001b[1;33m\u001b[0m\u001b[0m\n\u001b[0;32m     16\u001b[0m \u001b[1;33m\u001b[0m\u001b[0m\n\u001b[1;32m---> 17\u001b[1;33m \u001b[0mcross_val_prune\u001b[0m\u001b[1;33m(\u001b[0m\u001b[0mcart_clf\u001b[0m\u001b[1;33m(\u001b[0m\u001b[0mrandom_state\u001b[0m \u001b[1;33m=\u001b[0m \u001b[1;36m0\u001b[0m\u001b[1;33m)\u001b[0m\u001b[1;33m)\u001b[0m\u001b[1;33m\u001b[0m\u001b[0m\n\u001b[0m",
      "\u001b[1;32m<ipython-input-20-229d833461e7>\u001b[0m in \u001b[0;36mcross_val_prune\u001b[1;34m(clf_cart, folds, pairs_to_prune)\u001b[0m\n\u001b[0;32m     11\u001b[0m         \u001b[0mnodes\u001b[0m \u001b[1;33m=\u001b[0m \u001b[0mrange\u001b[0m\u001b[1;33m(\u001b[0m\u001b[0mclf_cart\u001b[0m\u001b[1;33m.\u001b[0m\u001b[0mtree_\u001b[0m\u001b[1;33m.\u001b[0m\u001b[0mnode_count\u001b[0m\u001b[1;33m)\u001b[0m\u001b[1;33m\u001b[0m\u001b[0m\n\u001b[0;32m     12\u001b[0m         \u001b[1;32mfor\u001b[0m \u001b[0mprune_nu\u001b[0m \u001b[1;32min\u001b[0m \u001b[0mrange\u001b[0m\u001b[1;33m(\u001b[0m\u001b[0mpairs_to_prune\u001b[0m\u001b[1;33m)\u001b[0m\u001b[1;33m:\u001b[0m\u001b[1;33m\u001b[0m\u001b[0m\n\u001b[1;32m---> 13\u001b[1;33m             \u001b[0merrs\u001b[0m\u001b[1;33m[\u001b[0m\u001b[0mfold_nu\u001b[0m\u001b[1;33m,\u001b[0m \u001b[0mprune_nu\u001b[0m\u001b[1;33m]\u001b[0m\u001b[1;33m,\u001b[0m \u001b[0mpruned_node_pair\u001b[0m\u001b[1;33m,\u001b[0m \u001b[0mnodes\u001b[0m \u001b[1;33m=\u001b[0m \u001b[0mprune_worst_node_pair\u001b[0m\u001b[1;33m(\u001b[0m\u001b[0mclf_cart\u001b[0m             \u001b[1;33m,\u001b[0m \u001b[0mnodes\u001b[0m\u001b[1;33m,\u001b[0m \u001b[0mX_test\u001b[0m\u001b[1;33m,\u001b[0m \u001b[0my_test\u001b[0m\u001b[1;33m)\u001b[0m\u001b[1;33m\u001b[0m\u001b[0m\n\u001b[0m\u001b[0;32m     14\u001b[0m             \u001b[1;32mprint\u001b[0m \u001b[1;34m'f'\u001b[0m\u001b[1;33m,\u001b[0m \u001b[0mfold_nu\u001b[0m\u001b[1;33m,\u001b[0m \u001b[1;34m'p'\u001b[0m\u001b[1;33m,\u001b[0m \u001b[0mprune_nu\u001b[0m\u001b[1;33m,\u001b[0m \u001b[1;34m'e'\u001b[0m\u001b[1;33m,\u001b[0m \u001b[0merrs\u001b[0m\u001b[1;33m[\u001b[0m\u001b[0mfold_nu\u001b[0m\u001b[1;33m.\u001b[0m \u001b[0mprune_nu\u001b[0m\u001b[1;33m]\u001b[0m\u001b[1;33m\u001b[0m\u001b[0m\n\u001b[0;32m     15\u001b[0m     \u001b[0merrs_mean\u001b[0m \u001b[1;33m=\u001b[0m \u001b[0mnp\u001b[0m\u001b[1;33m.\u001b[0m\u001b[0mmean\u001b[0m\u001b[1;33m(\u001b[0m\u001b[0merrs\u001b[0m\u001b[1;33m,\u001b[0m \u001b[0maxis\u001b[0m \u001b[1;33m=\u001b[0m \u001b[1;36m0\u001b[0m\u001b[1;33m)\u001b[0m\u001b[1;33m\u001b[0m\u001b[0m\n",
      "\u001b[1;32m<ipython-input-12-8049c640da17>\u001b[0m in \u001b[0;36mprune_worst_node_pair\u001b[1;34m(clf_cart, nodes, X_test, y_test)\u001b[0m\n\u001b[0;32m     22\u001b[0m         \u001b[0merrs\u001b[0m\u001b[1;33m.\u001b[0m\u001b[0mappend\u001b[0m\u001b[1;33m(\u001b[0m\u001b[1;36m1\u001b[0m \u001b[1;33m-\u001b[0m \u001b[0maccuracy_score\u001b[0m\u001b[1;33m(\u001b[0m\u001b[0mclf_cart\u001b[0m\u001b[1;33m.\u001b[0m\u001b[0mpredict\u001b[0m\u001b[1;33m(\u001b[0m\u001b[0mX_test\u001b[0m\u001b[1;33m)\u001b[0m\u001b[1;33m,\u001b[0m \u001b[0my_test\u001b[0m\u001b[1;33m)\u001b[0m\u001b[1;33m)\u001b[0m\u001b[1;33m\u001b[0m\u001b[0m\n\u001b[0;32m     23\u001b[0m         \u001b[0mtree\u001b[0m\u001b[1;33m.\u001b[0m\u001b[0mchildren_left\u001b[0m\u001b[1;33m[\u001b[0m\u001b[0mnode\u001b[0m\u001b[1;33m]\u001b[0m\u001b[1;33m,\u001b[0m \u001b[0mtree\u001b[0m\u001b[1;33m.\u001b[0m\u001b[0mchildren_right\u001b[0m\u001b[1;33m[\u001b[0m\u001b[0mnode\u001b[0m\u001b[1;33m]\u001b[0m \u001b[1;33m=\u001b[0m \u001b[0mleft\u001b[0m\u001b[1;33m,\u001b[0m \u001b[0mright\u001b[0m\u001b[1;33m\u001b[0m\u001b[0m\n\u001b[1;32m---> 24\u001b[1;33m     \u001b[0margmin_errs\u001b[0m \u001b[1;33m=\u001b[0m \u001b[0mnp\u001b[0m\u001b[1;33m.\u001b[0m\u001b[0margmin\u001b[0m\u001b[1;33m(\u001b[0m\u001b[0merrs\u001b[0m\u001b[1;33m)\u001b[0m\u001b[1;33m\u001b[0m\u001b[0m\n\u001b[0m\u001b[0;32m     25\u001b[0m     \u001b[0merr\u001b[0m \u001b[1;33m=\u001b[0m \u001b[0merrs\u001b[0m\u001b[1;33m[\u001b[0m\u001b[0margmin_errs\u001b[0m\u001b[1;33m]\u001b[0m\u001b[1;33m\u001b[0m\u001b[0m\n\u001b[0;32m     26\u001b[0m     \u001b[0mnodes\u001b[0m\u001b[1;33m,\u001b[0m \u001b[0mpruned_node_pair\u001b[0m \u001b[1;33m=\u001b[0m \u001b[0mmake_node_leaf\u001b[0m\u001b[1;33m(\u001b[0m\u001b[0mtwo_leaf_nodes_\u001b[0m\u001b[1;33m[\u001b[0m\u001b[0margmin_errs\u001b[0m\u001b[1;33m]\u001b[0m\u001b[1;33m,\u001b[0m \u001b[0mtree\u001b[0m\u001b[1;33m,\u001b[0m \u001b[0mnodes\u001b[0m\u001b[1;33m)\u001b[0m\u001b[1;33m\u001b[0m\u001b[0m\n",
      "\u001b[1;32mC:\\Users\\braq\\Anaconda2\\lib\\site-packages\\numpy\\core\\fromnumeric.pyc\u001b[0m in \u001b[0;36margmin\u001b[1;34m(a, axis, out)\u001b[0m\n\u001b[0;32m   1017\u001b[0m \u001b[1;33m\u001b[0m\u001b[0m\n\u001b[0;32m   1018\u001b[0m     \"\"\"\n\u001b[1;32m-> 1019\u001b[1;33m     \u001b[1;32mreturn\u001b[0m \u001b[0m_wrapfunc\u001b[0m\u001b[1;33m(\u001b[0m\u001b[0ma\u001b[0m\u001b[1;33m,\u001b[0m \u001b[1;34m'argmin'\u001b[0m\u001b[1;33m,\u001b[0m \u001b[0maxis\u001b[0m\u001b[1;33m=\u001b[0m\u001b[0maxis\u001b[0m\u001b[1;33m,\u001b[0m \u001b[0mout\u001b[0m\u001b[1;33m=\u001b[0m\u001b[0mout\u001b[0m\u001b[1;33m)\u001b[0m\u001b[1;33m\u001b[0m\u001b[0m\n\u001b[0m\u001b[0;32m   1020\u001b[0m \u001b[1;33m\u001b[0m\u001b[0m\n\u001b[0;32m   1021\u001b[0m \u001b[1;33m\u001b[0m\u001b[0m\n",
      "\u001b[1;32mC:\\Users\\braq\\Anaconda2\\lib\\site-packages\\numpy\\core\\fromnumeric.pyc\u001b[0m in \u001b[0;36m_wrapfunc\u001b[1;34m(obj, method, *args, **kwds)\u001b[0m\n\u001b[0;32m     65\u001b[0m     \u001b[1;31m# a downstream library like 'pandas'.\u001b[0m\u001b[1;33m\u001b[0m\u001b[1;33m\u001b[0m\u001b[0m\n\u001b[0;32m     66\u001b[0m     \u001b[1;32mexcept\u001b[0m \u001b[1;33m(\u001b[0m\u001b[0mAttributeError\u001b[0m\u001b[1;33m,\u001b[0m \u001b[0mTypeError\u001b[0m\u001b[1;33m)\u001b[0m\u001b[1;33m:\u001b[0m\u001b[1;33m\u001b[0m\u001b[0m\n\u001b[1;32m---> 67\u001b[1;33m         \u001b[1;32mreturn\u001b[0m \u001b[0m_wrapit\u001b[0m\u001b[1;33m(\u001b[0m\u001b[0mobj\u001b[0m\u001b[1;33m,\u001b[0m \u001b[0mmethod\u001b[0m\u001b[1;33m,\u001b[0m \u001b[1;33m*\u001b[0m\u001b[0margs\u001b[0m\u001b[1;33m,\u001b[0m \u001b[1;33m**\u001b[0m\u001b[0mkwds\u001b[0m\u001b[1;33m)\u001b[0m\u001b[1;33m\u001b[0m\u001b[0m\n\u001b[0m\u001b[0;32m     68\u001b[0m \u001b[1;33m\u001b[0m\u001b[0m\n\u001b[0;32m     69\u001b[0m \u001b[1;33m\u001b[0m\u001b[0m\n",
      "\u001b[1;32mC:\\Users\\braq\\Anaconda2\\lib\\site-packages\\numpy\\core\\fromnumeric.pyc\u001b[0m in \u001b[0;36m_wrapit\u001b[1;34m(obj, method, *args, **kwds)\u001b[0m\n\u001b[0;32m     45\u001b[0m     \u001b[1;32mexcept\u001b[0m \u001b[0mAttributeError\u001b[0m\u001b[1;33m:\u001b[0m\u001b[1;33m\u001b[0m\u001b[0m\n\u001b[0;32m     46\u001b[0m         \u001b[0mwrap\u001b[0m \u001b[1;33m=\u001b[0m \u001b[0mNone\u001b[0m\u001b[1;33m\u001b[0m\u001b[0m\n\u001b[1;32m---> 47\u001b[1;33m     \u001b[0mresult\u001b[0m \u001b[1;33m=\u001b[0m \u001b[0mgetattr\u001b[0m\u001b[1;33m(\u001b[0m\u001b[0masarray\u001b[0m\u001b[1;33m(\u001b[0m\u001b[0mobj\u001b[0m\u001b[1;33m)\u001b[0m\u001b[1;33m,\u001b[0m \u001b[0mmethod\u001b[0m\u001b[1;33m)\u001b[0m\u001b[1;33m(\u001b[0m\u001b[1;33m*\u001b[0m\u001b[0margs\u001b[0m\u001b[1;33m,\u001b[0m \u001b[1;33m**\u001b[0m\u001b[0mkwds\u001b[0m\u001b[1;33m)\u001b[0m\u001b[1;33m\u001b[0m\u001b[0m\n\u001b[0m\u001b[0;32m     48\u001b[0m     \u001b[1;32mif\u001b[0m \u001b[0mwrap\u001b[0m\u001b[1;33m:\u001b[0m\u001b[1;33m\u001b[0m\u001b[0m\n\u001b[0;32m     49\u001b[0m         \u001b[1;32mif\u001b[0m \u001b[1;32mnot\u001b[0m \u001b[0misinstance\u001b[0m\u001b[1;33m(\u001b[0m\u001b[0mresult\u001b[0m\u001b[1;33m,\u001b[0m \u001b[0mmu\u001b[0m\u001b[1;33m.\u001b[0m\u001b[0mndarray\u001b[0m\u001b[1;33m)\u001b[0m\u001b[1;33m:\u001b[0m\u001b[1;33m\u001b[0m\u001b[0m\n",
      "\u001b[1;31mValueError\u001b[0m: attempt to get argmin of an empty sequence"
     ]
    }
   ],
   "source": [
    "from copy import deepcopy\n",
    "\n",
    "def cross_val_prune(clf_cart, folds = 2, pairs_to_prune = 10):\n",
    "    errs = np.zeros(shape = (folds, pairs_to_prune))\n",
    "    split_indices = list(KFold(n_splits = folds).split(X))\n",
    "    for fold_nu in range(folds):\n",
    "        train_index, test_index = split_indices[fold_nu]\n",
    "        X_train, X_test = X[train_index], X[test_index]\n",
    "        y_train, y_test = y[train_index], y[test_index]\n",
    "        clf_cart.fit(X_train, y_train)\n",
    "        nodes = range(clf_cart.tree_.node_count)\n",
    "        for prune_nu in range(pairs_to_prune):\n",
    "            errs[fold_nu, prune_nu], pruned_node_pair, nodes = prune_worst_node_pair(clf_cart \\\n",
    "            , nodes, X_test, y_test)\n",
    "            print 'f', fold_nu, 'p', prune_nu, 'e', errs[fold_nu. prune_nu]\n",
    "    errs_mean = np.mean(errs, axis = 0)\n",
    "    \n",
    "cross_val_prune(cart_clf(random_state = 0))"
   ]
  },
  {
   "cell_type": "code",
   "execution_count": null,
   "metadata": {
    "collapsed": true
   },
   "outputs": [],
   "source": []
  }
 ],
 "metadata": {
  "kernelspec": {
   "display_name": "Python 2",
   "language": "python",
   "name": "python2"
  },
  "language_info": {
   "codemirror_mode": {
    "name": "ipython",
    "version": 2
   },
   "file_extension": ".py",
   "mimetype": "text/x-python",
   "name": "python",
   "nbconvert_exporter": "python",
   "pygments_lexer": "ipython2",
   "version": "2.7.13"
  }
 },
 "nbformat": 4,
 "nbformat_minor": 2
}
