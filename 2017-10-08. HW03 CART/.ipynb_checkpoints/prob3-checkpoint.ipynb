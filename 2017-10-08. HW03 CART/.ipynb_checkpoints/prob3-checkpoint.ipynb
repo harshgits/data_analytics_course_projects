{
 "cells": [
  {
   "cell_type": "code",
   "execution_count": 284,
   "metadata": {
    "collapsed": true
   },
   "outputs": [],
   "source": [
    "import pandas as pd, numpy as np\n",
    "from sklearn.model_selection import cross_val_score\n",
    "from sklearn.tree import DecisionTreeClassifier as cart_clf\n",
    "from sklearn.tree._tree import TREE_LEAF\n",
    "\n",
    "data = pd.read_csv('spam.data.csv', delimiter = ' ', header = None)\n",
    "X, y = data.iloc[:, :-1].values, data.iloc[:, -1:].values.flatten()"
   ]
  },
  {
   "cell_type": "code",
   "execution_count": 285,
   "metadata": {},
   "outputs": [],
   "source": [
    "cart_model = cart_clf(random_state=0)\n",
    "\n",
    "\n",
    "def class_error_rate( cart_model ) :\n",
    "  return np.mean(1. - cross_val_score(cart_model))  \n"
   ]
  },
  {
   "cell_type": "markdown",
   "metadata": {
    "collapsed": true
   },
   "source": [
    "### Part c"
   ]
  },
  {
   "cell_type": "code",
   "execution_count": 286,
   "metadata": {},
   "outputs": [
    {
     "data": {
      "text/plain": [
       "array([[  0.00000000e+00,   6.40000000e-01,   6.40000000e-01, ...,\n",
       "          3.75600000e+00,   6.10000000e+01,   2.78000000e+02],\n",
       "       [  2.10000000e-01,   2.80000000e-01,   5.00000000e-01, ...,\n",
       "          5.11400000e+00,   1.01000000e+02,   1.02800000e+03],\n",
       "       [  6.00000000e-02,   0.00000000e+00,   7.10000000e-01, ...,\n",
       "          9.82100000e+00,   4.85000000e+02,   2.25900000e+03],\n",
       "       ..., \n",
       "       [  3.00000000e-01,   0.00000000e+00,   3.00000000e-01, ...,\n",
       "          1.40400000e+00,   6.00000000e+00,   1.18000000e+02],\n",
       "       [  9.60000000e-01,   0.00000000e+00,   0.00000000e+00, ...,\n",
       "          1.14700000e+00,   5.00000000e+00,   7.80000000e+01],\n",
       "       [  0.00000000e+00,   0.00000000e+00,   6.50000000e-01, ...,\n",
       "          1.25000000e+00,   5.00000000e+00,   4.00000000e+01]])"
      ]
     },
     "execution_count": 286,
     "metadata": {},
     "output_type": "execute_result"
    }
   ],
   "source": [
    "def countLeafNodes(tree, root, count) :\n",
    "    left = t.children_left[root]\n",
    "    right = t.children_right[root]\n",
    "    \n",
    "    if left == right == TREE_LEAF :\n",
    "        return count + 1\n",
    "    elif left == TREE_LEAF != right:\n",
    "        return countLeafNodes(t, right, count)\n",
    "    elif left != TREE_LEAF == right:\n",
    "        return countLeafNodes(t, left, count)\n",
    "    else :\n",
    "        return countLeafNodes(t, left, count) + countLeafNodes(t, right, count)\n",
    "    \n",
    "\n",
    "def pruneLeaves(tree, root, rem_depth) :\n",
    "    if root == TREE_LEAF : return\n",
    "    \n",
    "    if rem_depth == 0 :\n",
    "        t.children_left[root] = t.children_left[root] = TREE_LEAF\n",
    "        return\n",
    "    \n",
    "    left = t.children_left[root]\n",
    "    right = t.children_right[root]\n",
    "    \n",
    "    pruneLeaves(t, left, rem_depth - 1)\n",
    "    pruneLeaves(t, right, rem_depth - 1)\n",
    "    \n",
    "    \n",
    "    \n",
    "\n",
    "cart_model.fit(X, y)\n",
    "t = cart_model.tree_\n",
    "max_depth = t.max_depth\n",
    "PRUNE_DEPTH = max_depth / 2\n",
    "# leaf_nodes = countLeafNodes(tree = t, root = 0, count = 0)\n",
    "# leaf_nodes, t.node_count\n",
    "# using range instead of xrange to keep compatibility with Python 3\n",
    "# pruneLeaves(tree = t, root = 0, rem_depth = 5)\n",
    "\n",
    "# print(class_error_rate(cart_model))\n",
    "for depth in range(max_depth, max_depth - PRUNE_DEPTH, -1) :\n",
    "    pruneLeaves(tree = t, root = 0, rem_depth = depth)\n",
    "#     print(class_error_rate(cart_model))\n",
    "#     print countLeafNodes(tree = cart_model.tree_, root = 0, count = 0)\n"
   ]
  }
 ],
 "metadata": {
  "kernelspec": {
   "display_name": "Python 2",
   "language": "python",
   "name": "python2"
  },
  "language_info": {
   "codemirror_mode": {
    "name": "ipython",
    "version": 2
   },
   "file_extension": ".py",
   "mimetype": "text/x-python",
   "name": "python",
   "nbconvert_exporter": "python",
   "pygments_lexer": "ipython2",
   "version": "2.7.13"
  }
 },
 "nbformat": 4,
 "nbformat_minor": 2
}
