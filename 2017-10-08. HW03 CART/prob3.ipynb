{
 "cells": [
  {
   "cell_type": "code",
   "execution_count": 94,
   "metadata": {
    "collapsed": true
   },
   "outputs": [],
   "source": [
    "import pandas as pd, numpy as np\n",
    "from sklearn.model_selection import cross_val_score\n",
    "from sklearn.tree import DecisionTreeClassifier as cart_clf\n",
    "from sklearn.model_selection import train_test_split\n",
    "from sklearn.tree._tree import TREE_LEAF\n",
    "from sklearn.metrics import accuracy_score\n",
    "\n",
    "data = pd.read_csv('spam.data.csv', delimiter = ' ', header = None)\n",
    "X, y = data.iloc[:, :-1].values, data.iloc[:, -1:].values.flatten()"
   ]
  },
  {
   "cell_type": "code",
   "execution_count": 95,
   "metadata": {
    "collapsed": true
   },
   "outputs": [],
   "source": [
    "cart_model = cart_clf(random_state=0)"
   ]
  },
  {
   "cell_type": "markdown",
   "metadata": {
    "collapsed": true
   },
   "source": [
    "### Part b and c"
   ]
  },
  {
   "cell_type": "code",
   "execution_count": 96,
   "metadata": {},
   "outputs": [],
   "source": [
    "def countLeafNodes(tree, root, count) :\n",
    "    left = t.children_left[root]\n",
    "    right = t.children_right[root]\n",
    "    \n",
    "    if left == right == TREE_LEAF :\n",
    "        return count + 1\n",
    "    elif left == TREE_LEAF != right:\n",
    "        return countLeafNodes(t, right, count)\n",
    "    elif left != TREE_LEAF == right:\n",
    "        return countLeafNodes(t, left, count)\n",
    "    else :\n",
    "        return countLeafNodes(t, left, count) + countLeafNodes(t, right, count)\n",
    "    \n",
    "\n",
    "def pruneLeaves(tree, root, rem_depth) :\n",
    "    if root == TREE_LEAF : return\n",
    "    \n",
    "    if rem_depth == 0 :\n",
    "        tree.children_left[root] = tree.children_left[root] = TREE_LEAF\n",
    "        return\n",
    "    \n",
    "    left = tree.children_left[root]\n",
    "    right = tree.children_right[root]\n",
    "    \n",
    "    pruneLeaves(tree, left, rem_depth - 1)\n",
    "    pruneLeaves(tree, right, rem_depth - 1)\n",
    "    \n",
    "def cross_validation(X, y, size ) :\n",
    "    scores = []\n",
    "    for i in range(size) :\n",
    "        X_train, X_test, y_train, y_test = train_test_split( X, y, test_size= 1.0/size) #random selection\n",
    "\n",
    "        cart_model.fit(X_train, y_train)\n",
    "\n",
    "        y_pred = cart_model.predict(X_test)\n",
    "        scores.append(accuracy_score(y_test,y_pred))\n",
    "    np_score = np.hstack(scores)\n",
    "    return 1.0 - np.mean(np_score)"
   ]
  },
  {
   "cell_type": "code",
   "execution_count": 97,
   "metadata": {},
   "outputs": [
    {
     "name": "stdout",
     "output_type": "stream",
     "text": [
      "original score 0.085\n",
      "1 --> 0.086\n",
      "2 --> 0.08\n",
      "3 --> 0.092\n",
      "4 --> 0.081\n",
      "5 --> 0.085\n",
      "6 --> 0.08\n",
      "7 --> 0.085\n",
      "8 --> 0.085\n",
      "9 --> 0.084\n",
      "10 --> 0.091\n",
      "11 --> 0.089\n",
      "12 --> 0.087\n",
      "13 --> 0.082\n",
      "14 --> 0.083\n",
      "15 --> 0.085\n",
      "16 --> 0.084\n",
      "17 --> 0.084\n",
      "18 --> 0.082\n",
      "19 --> 0.085\n",
      "20 --> 0.08\n",
      "21 --> 0.084\n",
      "22 --> 0.086\n",
      "23 --> 0.081\n",
      "24 --> 0.086\n",
      "25 --> 0.086\n",
      "26 --> 0.089\n",
      "27 --> 0.086\n",
      "Optimal tree by pruning 2 levels and score : 0.08\n"
     ]
    }
   ],
   "source": [
    "#original\n",
    "print (\"original score {}\".format(round((cross_validation(X, y, size = 10)),3)))\n",
    "max_depth = cart_model.tree_.max_depth\n",
    "min_score = 1.0\n",
    "min_index = -1\n",
    "for i in range(1, max_depth) :\n",
    "    score = round(cross_validation(X, y, size = 10),3)\n",
    "    (min_index, min_score) = (i, score) if score < min_score else (min_index, min_score)\n",
    "    print(\"{} --> {}\".format(i, score))\n",
    "\n",
    "print(\"Optimal tree by pruning {} levels and score : {}\".format (min_index, min_score))\n",
    "    \n"
   ]
  }
 ],
 "metadata": {
  "kernelspec": {
   "display_name": "Python 2",
   "language": "python",
   "name": "python2"
  },
  "language_info": {
   "codemirror_mode": {
    "name": "ipython",
    "version": 2
   },
   "file_extension": ".py",
   "mimetype": "text/x-python",
   "name": "python",
   "nbconvert_exporter": "python",
   "pygments_lexer": "ipython2",
   "version": "2.7.13"
  }
 },
 "nbformat": 4,
 "nbformat_minor": 2
}
