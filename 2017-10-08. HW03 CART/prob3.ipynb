{
 "cells": [
  {
   "cell_type": "code",
   "execution_count": 191,
   "metadata": {
    "collapsed": true
   },
   "outputs": [],
   "source": [
    "import pandas as pd, numpy as np\n",
    "from sklearn.model_selection import cross_val_score\n",
    "from sklearn.tree import DecisionTreeClassifier as cart_clf\n",
    "\n",
    "data = pd.read_csv('spam.data.csv', delimiter = ' ', header = None)\n",
    "X, y = data.iloc[:, :-1].values, data.iloc[:, -1:].values.flatten()"
   ]
  },
  {
   "cell_type": "code",
   "execution_count": 192,
   "metadata": {},
   "outputs": [],
   "source": [
    "cart_model = cart_clf(random_state=0)\n",
    "\n",
    "# np.mean(1. - cross_val_score(cart_obj, X, y, cv = 10))\n"
   ]
  },
  {
   "cell_type": "markdown",
   "metadata": {
    "collapsed": true
   },
   "source": [
    "### Part c"
   ]
  },
  {
   "cell_type": "code",
   "execution_count": 193,
   "metadata": {},
   "outputs": [
    {
     "data": {
      "text/plain": [
       "(299, 597)"
      ]
     },
     "execution_count": 193,
     "metadata": {},
     "output_type": "execute_result"
    }
   ],
   "source": [
    "def countLeafNodes(tree, root, count) :\n",
    "    \n",
    "    left = t.children_left[root]\n",
    "    right = t.children_right[root]\n",
    "    \n",
    "    if left == right == -1 :\n",
    "        return count + 1\n",
    "    elif left == -1 != right:\n",
    "        return countLeafNodes(t, right, count)\n",
    "    elif left != -1 == right:\n",
    "        return countLeafNodes(t, left, count)\n",
    "    else :\n",
    "        return countLeafNodes(t, left, count) + countLeafNodes(t, right, count)\n",
    "\n",
    "cart_model.fit(X, y)\n",
    "t = cart_model.tree_\n",
    "leaf_nodes = countLeafNodes(tree = t, root = 0, count = 0)\n",
    "leaf_nodes, t.node_count\n"
   ]
  }
 ],
 "metadata": {
  "kernelspec": {
   "display_name": "Python 2",
   "language": "python",
   "name": "python2"
  },
  "language_info": {
   "codemirror_mode": {
    "name": "ipython",
    "version": 2
   },
   "file_extension": ".py",
   "mimetype": "text/x-python",
   "name": "python",
   "nbconvert_exporter": "python",
   "pygments_lexer": "ipython2",
   "version": "2.7.13"
  }
 },
 "nbformat": 4,
 "nbformat_minor": 2
}
